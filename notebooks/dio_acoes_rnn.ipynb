{
  "cells": [
    {
      "cell_type": "markdown",
      "metadata": {
        "id": "657xsoB8y3cB"
      },
      "source": [
        "# Redes Neurais Para Finanças\n",
        "#### by Maycon Cypriano Batestin"
      ]
    },
    {
      "cell_type": "markdown",
      "metadata": {
        "id": "xUMrbi7a0cof"
      },
      "source": [
        "# Dicionário\n",
        "\n",
        "\n",
        "Fields\t                                                  | Type  \t  |    Description                              |\n",
        "----------------------------------------------------------|:---------:|:-------------------------------------------:|\n",
        "Date \t  \t\t\t\t\t\t\t\t\t\t  \t  |string     | Data da alteração |\n",
        "Open\t\t\t\t\t\t\t\t\t\t\t\t\t\t  |float    | preço da abertura                        |\n",
        "High\t\t     \t\t\t\t\t\t\t\t\t\t  |float     | preço mais alto no dia\t               |\n",
        "Low | float | preco mais baixo no dia\n",
        "Close | float | preco de fechamento\n",
        "Adj Close | float | preco de fechamento, com ajustes de distribuições de dividendos e/ou ganhos de capital.\n",
        "Volume | float | Volume total do dia\n",
        "  "
      ]
    },
    {
      "cell_type": "markdown",
      "metadata": {
        "id": "2aFxkj2N0dj3"
      },
      "source": [
        "# Instalando os pacotes"
      ]
    },
    {
      "cell_type": "code",
      "execution_count": null,
      "metadata": {
        "id": "j3pnNx_I0j_T",
        "colab": {
          "base_uri": "https://localhost:8080/"
        },
        "outputId": "5f156294-f42a-4b65-b98c-c4c24baa1541"
      },
      "outputs": [
        {
          "output_type": "stream",
          "name": "stdout",
          "text": [
            "Requirement already satisfied: pandas in /usr/local/lib/python3.10/dist-packages (2.0.3)\n",
            "Requirement already satisfied: numpy in /usr/local/lib/python3.10/dist-packages (1.25.2)\n",
            "Requirement already satisfied: scikit-learn in /usr/local/lib/python3.10/dist-packages (1.2.2)\n",
            "Requirement already satisfied: keras in /usr/local/lib/python3.10/dist-packages (2.15.0)\n",
            "Requirement already satisfied: matplotlib in /usr/local/lib/python3.10/dist-packages (3.7.1)\n",
            "Requirement already satisfied: plotly in /usr/local/lib/python3.10/dist-packages (5.15.0)\n",
            "Requirement already satisfied: yfinance in /usr/local/lib/python3.10/dist-packages (0.2.40)\n"
          ]
        }
      ],
      "source": [
        "!pip install pandas numpy scikit-learn keras matplotlib plotly yfinance"
      ]
    },
    {
      "cell_type": "markdown",
      "metadata": {
        "id": "FS4zGUW_0mg0"
      },
      "source": [
        "# Documentação\n",
        "\n",
        "1. ** Pandas ** -> [Link](https://pandas.pydata.org/docs/)\n",
        "2. ** Numpy ** -> [Link](https://numpy.org/doc/)\n",
        "4. ** Scikit Learn ** -> [Link](https://scikit-learn.org/stable/)\n",
        "5. ** Keras ** -> [Link](https://keras.io/api/)\n",
        "6. ** Tensor Flow ** -> [Tensor Flow](https://www.tensorflow.org/api_docs/python/tf/keras)\n",
        "\n",
        "7. ** yfinance ** >[Link](https://pypi.org/project/yfinance/)\n",
        "\n",
        "8. ** Plotly ** > [Link](https://plotly.com/python/statistical-charts/)"
      ]
    },
    {
      "cell_type": "markdown",
      "metadata": {
        "id": "G8zwcXXpWdx0"
      },
      "source": [
        "# Etapas\n",
        "\n",
        "- **Coletar Dados**\n",
        "  - Recolher dados brutos de várias fontes\n",
        "- **Analisar os Dados**\n",
        "  - Explorar os dados para identificar padrões e anomalias\n",
        "- **Preparar os Dados**\n",
        "  - Limpar e transformar os dados para torná-los utilizáveis\n",
        "- **Treinar os Dados**\n",
        "  - Usar os dados preparados para treinar o modelo de machine learning\n",
        "- **Testar os Dados**\n",
        "  - Testar o modelo treinado com um conjunto de dados de teste\n",
        "- **Avaliar o Modelo**\n",
        "  - Avaliar o desempenho do modelo e ajustar conforme necessário\n"
      ]
    },
    {
      "cell_type": "markdown",
      "metadata": {
        "id": "_x1_XfCf0k-n"
      },
      "source": [
        "# Obtendo o dataset"
      ]
    },
    {
      "cell_type": "code",
      "execution_count": null,
      "metadata": {
        "id": "StBsIgZ2xLng"
      },
      "outputs": [],
      "source": [
        "import pandas as pd\n",
        "import yfinance as yf\n",
        "import os\n",
        "\n",
        "folder = 'datasets'\n",
        "if not os.path.exists(folder):\n",
        "  os.makedirs(folder)\n",
        "\n",
        "\n",
        "name = \"NVDA\"\n",
        "file = os.path.join(folder, f'{name}.csv')\n",
        "data = yf.download(name, start='2004-01-01', end='2024-06-19')\n",
        "data.to_csv(file)\n",
        "df = pd.read_csv(file)\n",
        "df"
      ]
    },
    {
      "cell_type": "markdown",
      "metadata": {
        "id": "yJBaC6kO2LlM"
      },
      "source": [
        "# Análise Exploratória"
      ]
    },
    {
      "cell_type": "code",
      "execution_count": null,
      "metadata": {
        "id": "_23XSO_xaN1C"
      },
      "outputs": [],
      "source": [
        "df.head(), df.tail()"
      ]
    },
    {
      "cell_type": "code",
      "execution_count": null,
      "metadata": {
        "id": "svD5zn1Vt_3F"
      },
      "outputs": [],
      "source": [
        "df.info()"
      ]
    },
    {
      "cell_type": "code",
      "execution_count": null,
      "metadata": {
        "id": "8mqshUwfulnr"
      },
      "outputs": [],
      "source": [
        "df.describe()"
      ]
    },
    {
      "cell_type": "code",
      "execution_count": null,
      "metadata": {
        "id": "9ljFLewdvWM6"
      },
      "outputs": [],
      "source": [
        "df[df['Open'] <= 0.080583]"
      ]
    },
    {
      "cell_type": "code",
      "execution_count": null,
      "metadata": {
        "id": "E4NqS2R0v09s"
      },
      "outputs": [],
      "source": [
        "df_corr = df[[\"Open\", \"High\", \"Low\", \"Close\", \"Adj Close\", \"Volume\"]]\n",
        "df_corr.corr()"
      ]
    },
    {
      "cell_type": "code",
      "execution_count": null,
      "metadata": {
        "id": "wKgWK9HEwisi"
      },
      "outputs": [],
      "source": [
        "import plotly.express as px\n",
        "\n",
        "fig = px.imshow(df_corr.corr())\n",
        "fig.show()"
      ]
    },
    {
      "cell_type": "code",
      "execution_count": null,
      "metadata": {
        "id": "LpqLSsmMw4rC"
      },
      "outputs": [],
      "source": [
        "corr_matrix = pd.DataFrame(df_corr.corr())\n",
        "\n",
        "fig = px.imshow(corr_matrix, x=corr_matrix.columns, y=corr_matrix.columns, zmin = 1, zmax=1, text_auto=True)\n",
        "fig.update_layout(title='Matriz de Correlação', yaxis_title=\" \", xaxis_title=\" \")\n",
        "fig.show()"
      ]
    },
    {
      "cell_type": "code",
      "execution_count": null,
      "metadata": {
        "id": "7pifLdLRw95Z"
      },
      "outputs": [],
      "source": [
        "fig = px.line(df, x='Date', y='Close', title=f'Fechamento do preço das ações de {name}')\n",
        "fig.show()"
      ]
    },
    {
      "cell_type": "markdown",
      "metadata": {
        "id": "eFX5vORC7qVR"
      },
      "source": [
        "# Preparando os Dados"
      ]
    },
    {
      "cell_type": "code",
      "execution_count": null,
      "metadata": {
        "id": "eC167tr2-ufn"
      },
      "outputs": [],
      "source": [
        "px.box(df, y='Close')"
      ]
    },
    {
      "cell_type": "code",
      "execution_count": null,
      "metadata": {
        "id": "gfoZXgzrzsZr"
      },
      "outputs": [],
      "source": [
        "Q1 = df['Close'].quantile(0.25) #primeiro quartil\n",
        "Q3 = df['Close'].quantile(0.75) #terceiro quartil\n",
        "IQR = Q3 - Q1 #intervalo interquartil\n",
        "outliers = df[(df['Close'] < (Q1 - 1.5 * IQR)) | (df['Close'] > (Q3 + 1.5 * IQR))]\n",
        "outliers"
      ]
    },
    {
      "cell_type": "code",
      "execution_count": null,
      "metadata": {
        "id": "WtOLOEPc0LRU"
      },
      "outputs": [],
      "source": [
        "media_close = df['Close'].median()\n",
        "\n",
        "for outlier in outliers:\n",
        "  df['Close'].replace(outlier, media_close, inplace=True)\n",
        "\n",
        "df"
      ]
    },
    {
      "cell_type": "code",
      "execution_count": null,
      "metadata": {
        "id": "qvsIyjKl0vFQ"
      },
      "outputs": [],
      "source": []
    },
    {
      "cell_type": "code",
      "execution_count": null,
      "metadata": {
        "id": "L3xLtgej037r"
      },
      "outputs": [],
      "source": [
        "new_data = df[df['Close'].isin(outliers)]\n",
        "px.box(df, y='Close')"
      ]
    },
    {
      "cell_type": "markdown",
      "metadata": {
        "id": "JRRxLiTp1Hy_"
      },
      "source": [
        "# Preparando os Dados"
      ]
    },
    {
      "cell_type": "code",
      "execution_count": null,
      "metadata": {
        "id": "VS8QjZAk1EzC"
      },
      "outputs": [],
      "source": [
        "df['Date'].unique().max()"
      ]
    },
    {
      "cell_type": "code",
      "execution_count": null,
      "metadata": {
        "id": "RYLdDFqL1QBS"
      },
      "outputs": [],
      "source": [
        "df['Date'] = pd.to_datetime(df['Date'])\n",
        "df['Date'].unique().max()"
      ]
    },
    {
      "cell_type": "code",
      "execution_count": null,
      "metadata": {
        "id": "89U2xsoH1iL2"
      },
      "outputs": [],
      "source": [
        "total_rows = len(df)\n",
        "legs = 21\n",
        "\n",
        "df_train = df.iloc[:total_rows - legs]\n",
        "df_test = df.iloc[total_rows - legs:]\n",
        "\n",
        "print(len(df))\n",
        "print(len(df_train))\n",
        "print(len(df_test))\n",
        "print(len(df_train) + len(df_test))\n"
      ]
    },
    {
      "cell_type": "code",
      "execution_count": null,
      "metadata": {
        "id": "Y5RkC4Q32bGc"
      },
      "outputs": [],
      "source": [
        "training_set = df_train['Close'].values\n",
        "training_set"
      ]
    },
    {
      "cell_type": "code",
      "execution_count": null,
      "metadata": {
        "id": "7gB-xgab3AAE"
      },
      "outputs": [],
      "source": [
        "#processamento normalizacao dos dados\n",
        "#processo de escalamento dos dados\n",
        "\n",
        "from sklearn.preprocessing import MinMaxScaler\n",
        "sc = MinMaxScaler(feature_range=(0,1))\n",
        "training_set_scaled = sc.fit_transform(training_set.reshape(-1,1))\n",
        "training_set_scaled"
      ]
    },
    {
      "cell_type": "code",
      "execution_count": null,
      "metadata": {
        "id": "k1nccVU64VdD"
      },
      "outputs": [],
      "source": [
        "intervalo_entre_os_dias = 60\n"
      ]
    },
    {
      "cell_type": "code",
      "execution_count": null,
      "metadata": {
        "id": "mrBhfQa53tMh"
      },
      "outputs": [],
      "source": [
        "\n",
        "X_train = []\n",
        "y_train = []\n",
        "\n",
        "for i in range(intervalo_entre_os_dias, len(training_set)):\n",
        "  X_train.append(training_set_scaled[i-intervalo_entre_os_dias:i, 0]) #vai pegar sempre os 60 dias para tras\n",
        "  y_train.append(training_set_scaled[i, 0]) #vai pegar sempre todos os valores do intervalo\n",
        "\n",
        "import numpy as np\n",
        "\n",
        "X_train, y_train = np.array(X_train), np.array(y_train)\n"
      ]
    },
    {
      "cell_type": "code",
      "execution_count": null,
      "metadata": {
        "id": "66SGB31M41Y8"
      },
      "outputs": [],
      "source": [
        "X_train.shape"
      ]
    },
    {
      "cell_type": "markdown",
      "metadata": {
        "id": "BfJFPR1CAKgA"
      },
      "source": [
        "#  Treino\n"
      ]
    },
    {
      "cell_type": "code",
      "execution_count": null,
      "metadata": {
        "id": "UDLEBjc_owqJ"
      },
      "outputs": [],
      "source": [
        "batch_size = len(X_train)\n",
        "time_steps = intervalo_entre_os_dias\n",
        "features = 1\n",
        "\n",
        "X_train = np.reshape(X_train, (batch_size, time_steps, features))"
      ]
    },
    {
      "cell_type": "code",
      "execution_count": null,
      "metadata": {
        "id": "vvH3ygjI5efF"
      },
      "outputs": [],
      "source": [
        "X_train.shape"
      ]
    },
    {
      "cell_type": "code",
      "execution_count": null,
      "metadata": {
        "id": "XAyYsCT_5iUr"
      },
      "outputs": [],
      "source": [
        "import tensorflow as tf\n",
        "tf.__version__"
      ]
    },
    {
      "cell_type": "code",
      "execution_count": null,
      "metadata": {
        "id": "-RVFiw9W5sSO"
      },
      "outputs": [],
      "source": [
        "from tensorflow.keras.models import Sequential\n",
        "from tensorflow.keras.layers import Dense, LSTM, Dropout\n",
        "\n",
        "rnn = Sequential()\n"
      ]
    },
    {
      "cell_type": "code",
      "execution_count": null,
      "metadata": {
        "id": "q1o9-u_l580x"
      },
      "outputs": [],
      "source": [
        "rnn.add(LSTM(units=50, return_sequences=True, input_shape=(time_steps, features)))\n",
        "rnn.add(Dropout(0.5))\n",
        "\n",
        "rnn.add(LSTM(units=50, return_sequences=True))\n",
        "rnn.add(Dropout(0.5))\n",
        "\n",
        "rnn.add(LSTM(units=50, return_sequences=True))\n",
        "rnn.add(Dropout(0.5))\n",
        "\n",
        "rnn.add(LSTM(units=50))\n",
        "rnn.add(Dropout(0.5))\n",
        "\n",
        "rnn.add(Dense(units=1))"
      ]
    },
    {
      "cell_type": "code",
      "execution_count": null,
      "metadata": {
        "id": "ZnEHWYG67GTL"
      },
      "outputs": [],
      "source": [
        "from tensorflow.keras.utils import plot_model\n",
        "\n",
        "plot_model(rnn, to_file='redes_graficas.png', show_shapes=True,  show_layer_names=True, expand_nested=True)\n"
      ]
    },
    {
      "cell_type": "code",
      "execution_count": null,
      "metadata": {
        "colab": {
          "background_save": true
        },
        "id": "ifjjyRhD7pyh"
      },
      "outputs": [],
      "source": [
        "rnn.compile(optimizer='adam', loss='mean_squared_error', metrics=['accuracy'])\n",
        "rnn.fit(X_train, y_train, epochs = 100, batch_size = 32)"
      ]
    },
    {
      "cell_type": "markdown",
      "metadata": {
        "id": "0v7Lj7ntcScu"
      },
      "source": [
        "# Teste"
      ]
    },
    {
      "cell_type": "code",
      "execution_count": null,
      "metadata": {
        "id": "IeESpUsaBBwE"
      },
      "outputs": [],
      "source": [
        "# Testando\n",
        "\n",
        "fechamento_real = df_test['Close'].values\n",
        "\n",
        "dataset_total = pd.concat((df['Close'], df_test['Close']), axis=0)\n",
        "inputs = dataset_total[len(dataset_total) - len(df_test) - intervalo_entre_os_dias:].values\n",
        "inputs = inputs.reshape(-1,1)\n",
        "inputs = sc.transform(inputs)\n",
        "\n",
        "inputs = sc.transform(inputs)\n",
        "\n"
      ]
    },
    {
      "cell_type": "code",
      "execution_count": null,
      "metadata": {
        "id": "GGU2QcK-818s"
      },
      "outputs": [],
      "source": [
        "X_test = []\n",
        "for i in range(intervalo_entre_os_dias, len(inputs)):\n",
        "  X_test.append(inputs[i-intervalo_entre_os_dias:i, 0])\n",
        "\n",
        "X_test = np.array(X_test)\n",
        "X_test = np.reshape(X_test, (X_test.shape[0], X_test.shape[1], 1))\n",
        "\n"
      ]
    },
    {
      "cell_type": "code",
      "execution_count": null,
      "metadata": {
        "id": "8kknjRpg9GZ-"
      },
      "outputs": [],
      "source": [
        "print(f'previsao oficial: {rnn.predict(X_test)}')\n",
        "print(f'valor real: {sc.inverse_transform(rnn.predict(X_test))}')\n",
        "\n",
        "variacao_final = sc.inverse_transform(rnn.predict(X_test))\n",
        "print(variacao_final)"
      ]
    },
    {
      "cell_type": "code",
      "execution_count": null,
      "metadata": {
        "id": "Dv_xvBZy9kFA"
      },
      "outputs": [],
      "source": []
    },
    {
      "cell_type": "markdown",
      "metadata": {
        "id": "Xize_IWOCPEU"
      },
      "source": [
        "# Avaliação de Resultados"
      ]
    },
    {
      "cell_type": "code",
      "execution_count": null,
      "metadata": {
        "id": "CNinPjdwa2Xj"
      },
      "outputs": [],
      "source": [
        "\n",
        "import matplotlib.pyplot as plt\n",
        "\n",
        "plt.plot(fechamento_real, color = 'red', label = f'Dados Reais de Ações da {name}')\n",
        "plt.plot(variacao_final, color = 'blue', label = f'Dados Previstos de Ações do {name}')\n",
        "plt.title('Previsão de Preços de Ações')\n",
        "plt.xlabel('Tempo')\n",
        "plt.ylabel('Preços de Ações')\n",
        "plt.legend()\n",
        "plt.show()"
      ]
    }
  ],
  "metadata": {
    "colab": {
      "provenance": []
    },
    "kernelspec": {
      "display_name": "Python 3",
      "name": "python3"
    },
    "language_info": {
      "name": "python"
    }
  },
  "nbformat": 4,
  "nbformat_minor": 0
}
